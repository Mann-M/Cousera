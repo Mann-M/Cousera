{
 "cells": [
  {
   "cell_type": "markdown",
   "id": "cd9dc942-c821-4f77-a05e-0c53e9cb2ab8",
   "metadata": {},
   "source": [
    "#  Data Science Tools and Ecosystem"
   ]
  },
  {
   "cell_type": "markdown",
   "id": "86b1c4d7-f68f-4b0c-8eb1-966218674889",
   "metadata": {},
   "source": [
    "## In this notebook, Data Science Tools and Ecosystem are summerize."
   ]
  },
  {
   "cell_type": "markdown",
   "id": "d32828ec-bd44-42d7-8f4f-9954927dac83",
   "metadata": {},
   "source": [
    "** Objectives **\n",
    "\n",
    "* list of popular languages used in Data Science\n",
    "* Commonly used Libraries in Data Science\n",
    "* Data science Tools\n",
    "* Evakuating arithmetic expression"
   ]
  },
  {
   "cell_type": "markdown",
   "id": "501d2342-ddc4-44b6-9e08-6263e4788966",
   "metadata": {},
   "source": [
    "#### Some of the popular languages that Data Scientist use are:\n",
    "1. Python\n",
    "2. R language\n",
    "3. SQL\n",
    "4. C++"
   ]
  },
  {
   "cell_type": "markdown",
   "id": "c731842c-afb8-4296-bbeb-c46e847cc712",
   "metadata": {},
   "source": [
    "#### Some of the commonly used libraries used by Data Scientist include:\n",
    "1. Pandas\n",
    "2. scikit-learn\n",
    "3. matplotlib\n",
    "4. numpy"
   ]
  },
  {
   "cell_type": "markdown",
   "id": "e4ece7f0-78fe-4f3f-afda-f28df0a17f4e",
   "metadata": {},
   "source": [
    "### Data Science Tools\n",
    "\n",
    "|open source tools|\n",
    "|-----------------|\n",
    "|R-Studio|\n",
    "|Apache Spark|\n",
    "|Tensor Flow|"
   ]
  },
  {
   "cell_type": "markdown",
   "id": "41163d86-c9a9-4e85-ab17-f2d71a57f62f",
   "metadata": {},
   "source": [
    "### Below are a few examples of evaluating arithmetic expressions in Python"
   ]
  },
  {
   "cell_type": "code",
   "execution_count": 1,
   "id": "c53f9ef2-9dbd-43aa-aa28-9bbba68f05c8",
   "metadata": {},
   "outputs": [
    {
     "data": {
      "text/plain": [
       "17"
      ]
     },
     "execution_count": 1,
     "metadata": {},
     "output_type": "execute_result"
    }
   ],
   "source": [
    "# This is a simple arithmetic expression to multiply then add integers\n",
    "\n",
    "(3*4)+5"
   ]
  },
  {
   "cell_type": "code",
   "execution_count": 2,
   "id": "cd8ec2e6-3ab6-4287-ae17-83d1069b427e",
   "metadata": {},
   "outputs": [
    {
     "data": {
      "text/plain": [
       "3.3333333333333335"
      ]
     },
     "execution_count": 2,
     "metadata": {},
     "output_type": "execute_result"
    }
   ],
   "source": [
    "# This will convert 200 minutes to hours by dividing by 60\n",
    "200/60"
   ]
  },
  {
   "cell_type": "markdown",
   "id": "5177aa55-dd0a-43e8-930c-07e7bec8b5c2",
   "metadata": {},
   "source": [
    "## Author\n",
    "Manmohan Doley"
   ]
  },
  {
   "cell_type": "code",
   "execution_count": null,
   "id": "d7254f4a-9750-4f5f-9f4a-e87170ccaa34",
   "metadata": {},
   "outputs": [],
   "source": []
  }
 ],
 "metadata": {
  "kernelspec": {
   "display_name": "Python 3 (ipykernel)",
   "language": "python",
   "name": "python3"
  },
  "language_info": {
   "codemirror_mode": {
    "name": "ipython",
    "version": 3
   },
   "file_extension": ".py",
   "mimetype": "text/x-python",
   "name": "python",
   "nbconvert_exporter": "python",
   "pygments_lexer": "ipython3",
   "version": "3.10.9"
  }
 },
 "nbformat": 4,
 "nbformat_minor": 5
}
